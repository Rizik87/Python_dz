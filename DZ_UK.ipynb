{
 "cells": [
  {
   "cell_type": "code",
   "execution_count": 34,
   "metadata": {},
   "outputs": [
    {
     "name": "stdout",
     "output_type": "stream",
     "text": [
      "Введите слово:test\n",
      "es\n"
     ]
    }
   ],
   "source": [
    "# Дана переменная, в которой хранится слово из латинских букв. Напишите код, который выводит на экран: среднюю букву, \n",
    "# если число букв в слове нечетное; две средних буквы, если число букв четное.\n",
    "word = input('Введите слово:')\n",
    "if len(word) % 2 == 0:\n",
    "     print(word[int(len(word) / 2) - 1 : int(len(word) / 2) +1])\n",
    "elif len(word) % 2 != 0:\n",
    "        print(word[int(len(word) / 2)])"
   ]
  },
  {
   "cell_type": "code",
   "execution_count": 6,
   "metadata": {},
   "outputs": [
    {
     "name": "stdout",
     "output_type": "stream",
     "text": [
      "1\n",
      "4\n",
      "6\n",
      "0\n",
      "11\n"
     ]
    }
   ],
   "source": [
    "# Напишите программу, которая последовательно запрашивает у пользователя числа (по одному за раз) \n",
    "# и после первого нуля выводит сумму всех ранее введенных чисел.\n",
    "a = int(input())\n",
    "sum = 0\n",
    "while a != 0:\n",
    "    sum += a\n",
    "    a = int(input())\n",
    "print(sum)"
   ]
  },
  {
   "cell_type": "code",
   "execution_count": 47,
   "metadata": {},
   "outputs": [
    {
     "name": "stdout",
     "output_type": "stream",
     "text": [
      "('Alex', 'Emma')\n",
      "('Arthur', 'Kate')\n",
      "('John', 'Kira')\n",
      "('Peter', 'Liza')\n",
      "('Richard', 'Trisha')\n"
     ]
    }
   ],
   "source": [
    "# Мы делаем MVP dating-сервиса, и у нас есть список парней и девушек.\n",
    "# Выдвигаем гипотезу: лучшие рекомендации мы получим, если просто отсортируем имена по алфавиту \n",
    "# и познакомим людей с одинаковыми индексами после сортировки! Но мы не будем никого знакомить, \n",
    "# если кто-то может остаться без пары.\n",
    "boys = ['Peter', 'Alex', 'John', 'Arthur', 'Richard']\n",
    "girls = ['Kate', 'Liza', 'Kira', 'Emma', 'Trisha']\n",
    "if len(boys) == len(girls):\n",
    "    boys_1 = sorted(boys)\n",
    "    girls_1 = sorted(girls)\n",
    "    pairs = zip(boys_1, girls_1)\n",
    "    for pair in pairs:\n",
    "        print(pair)\n",
    "else:\n",
    "    print('Внимание, кто-то может остаться без пары!')"
   ]
  },
  {
   "cell_type": "code",
   "execution_count": 2,
   "metadata": {},
   "outputs": [
    {
     "name": "stdout",
     "output_type": "stream",
     "text": [
      "Thailand - 74.94 C\n",
      "Germany - 56.84 C\n",
      "Russia - 38.69 C\n",
      "Poland - 53.6 C\n"
     ]
    }
   ],
   "source": [
    "# У нас есть список, содержащий информацию о среднедневной температуре в Фаренгейтах за произвольный период по странам\n",
    "# (структура данных в примере). Необходимо написать код, который рассчитает среднюю температуру за период в Цельсиях(!) \n",
    "# для каждой страны.\n",
    "countries_temperature = [\n",
    "['Thailand', [75.2, 77, 78.8, 73.4, 68, 75.2, 77]],\n",
    "['Germany', [57.2, 55.4, 59, 59, 53.6]],\n",
    "['Russia', [35.6, 37.4, 39.2, 41, 42.8, 39.2, 35.6]],\n",
    "['Poland', [50, 50, 53.6, 57.2, 55.4, 55.4]]\n",
    "]\n",
    "kol = 0\n",
    "sum_temp = 0\n",
    "m = 0\n",
    "for temp in countries_temperature:\n",
    "    kol = len(temp[1])\n",
    "    sum_temp = sum(temp[1])\n",
    "    m = sum_temp / kol\n",
    "    print(temp[0],'-',round(m,2),'C')"
   ]
  }
 ],
 "metadata": {
  "kernelspec": {
   "display_name": "Python 3",
   "language": "python",
   "name": "python3"
  },
  "language_info": {
   "codemirror_mode": {
    "name": "ipython",
    "version": 3
   },
   "file_extension": ".py",
   "mimetype": "text/x-python",
   "name": "python",
   "nbconvert_exporter": "python",
   "pygments_lexer": "ipython3",
   "version": "3.8.3"
  }
 },
 "nbformat": 4,
 "nbformat_minor": 4
}
