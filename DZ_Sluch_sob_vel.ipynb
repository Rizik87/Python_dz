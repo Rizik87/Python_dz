{
 "cells": [
  {
   "cell_type": "code",
   "execution_count": 1,
   "metadata": {},
   "outputs": [
    {
     "name": "stdout",
     "output_type": "stream",
     "text": [
      "Попытки: 1000000,\n",
      "Успехи:  203383,\n",
      "Выигрыш: 800763\n",
      "Средняя потеря за одну игру: 20 копеек\n"
     ]
    }
   ],
   "source": [
    "import numpy as np\n",
    "\n",
    "trials = 1000000    # Количество попыток\n",
    "successes = 0      # Количество успешных попыток\n",
    "cash = 0           # Количество выиграных денег\n",
    "\n",
    "for i in range(trials):\n",
    "    random_score = np.random.randint(0 , 1000)    # Случайное количество очков от 0 до 999\n",
    "\n",
    "    if random_score == 777:\n",
    "        successes += 1\n",
    "        cash += 200\n",
    "    elif random_score == 999:\n",
    "        successes += 1\n",
    "        cash += 100\n",
    "    elif random_score == 555:\n",
    "        successes += 1\n",
    "        cash += 50\n",
    "    elif random_score == 333:\n",
    "        successes += 1\n",
    "        cash += 15\n",
    "    elif random_score == 111:\n",
    "        successes += 1\n",
    "        cash += 10\n",
    "    elif random_score % 100  == 77:\n",
    "        successes += 1\n",
    "        cash += 5\n",
    "    elif random_score % 10  == 7:\n",
    "        successes += 1\n",
    "        cash += 3\n",
    "    elif random_score % 100  == .00:\n",
    "        successes += 1\n",
    "        cash += 2\n",
    "    elif random_score % 10  == 0:\n",
    "        successes += 1\n",
    "        cash += 1\n",
    "    \n",
    "        \n",
    "g_avg = cash / trials    # средний выигрыш за одну игру\n",
    "\n",
    "print(f'Попытки: {trials},\\nУспехи:  {successes},\\nВыигрыш: {cash}')\n",
    "print(f'Средняя потеря за одну игру: {round(100*(1-g_avg))} копеек')"
   ]
  },
  {
   "cell_type": "code",
   "execution_count": null,
   "metadata": {},
   "outputs": [],
   "source": [
    "# Игра не выгодна игроку. Из 1 млн. попыток - упешных 203 383, общий выигрыш составляет 800 552. \n",
    "# Что подтверждает утверждение о невыгодности. В среднем игрок теряет за одну игру: 20 копеек, что составляет 20%.\n",
    "# Для рассчета среднего проигрыша надо определить вероятность каждого выигрышного исхода."
   ]
  },
  {
   "cell_type": "code",
   "execution_count": 2,
   "metadata": {},
   "outputs": [
    {
     "data": {
      "text/plain": [
       "0.8"
      ]
     },
     "execution_count": 2,
     "metadata": {},
     "output_type": "execute_result"
    }
   ],
   "source": [
    "# выигрышные комбинации, вероятность каждой комбинации и выигрыш при каждой комбинации:\n",
    "combinations = ['777', '999', '555', '333', '111', '77', '7', '00', '0']\n",
    "probabilities = [1/1000, 1/1000, 1/1000, 1/1000, 1/1000, (10-1)/1000, (100-1-9)/1000, 1/100, (10-1)/100]\n",
    "gains = [200, 100, 50, 15, 10, 5, 3, 2, 1]\n",
    "# подсчитываем теоретический выигрыш по формуле: P1*X1 + P2*X2 + ... + Pn*Xn\n",
    "avg_gain = 0\n",
    "for gain, probability in zip(gains, probabilities):\n",
    "    avg_gain += gain * probability\n",
    "avg_gain"
   ]
  }
 ],
 "metadata": {
  "kernelspec": {
   "display_name": "Python 3",
   "language": "python",
   "name": "python3"
  },
  "language_info": {
   "codemirror_mode": {
    "name": "ipython",
    "version": 3
   },
   "file_extension": ".py",
   "mimetype": "text/x-python",
   "name": "python",
   "nbconvert_exporter": "python",
   "pygments_lexer": "ipython3",
   "version": "3.8.3"
  }
 },
 "nbformat": 4,
 "nbformat_minor": 4
}
