{
 "cells": [
  {
   "cell_type": "code",
   "execution_count": null,
   "metadata": {},
   "outputs": [],
   "source": [
    "#перечень всех документов"
   ]
  },
  {
   "cell_type": "code",
   "execution_count": null,
   "metadata": {},
   "outputs": [],
   "source": [
    "documents = [\n",
    "{'type': 'passport', 'number': '2207 876234', 'name': 'Василий Гупкин'},\n",
    "{'type': 'invoice', 'number': '11-2', 'name': 'Геннадий Покемонов'},\n",
    "{'type': 'insurance', 'number': '10006', 'name': 'Аристарх Павлов'}\n",
    "]"
   ]
  },
  {
   "cell_type": "code",
   "execution_count": null,
   "metadata": {},
   "outputs": [],
   "source": [
    "#перечень полок, на которых хранятся документы (если документ есть в documents, то он обязательно должен быть и в directories)"
   ]
  },
  {
   "cell_type": "code",
   "execution_count": null,
   "metadata": {},
   "outputs": [],
   "source": [
    "directories = {\n",
    "'1': ['2207 876234', '11-2'],\n",
    "'2': ['10006'],\n",
    "'3': []\n",
    "}"
   ]
  },
  {
   "cell_type": "code",
   "execution_count": null,
   "metadata": {},
   "outputs": [],
   "source": [
    "def main(document, directories, owner):\n",
    "    while True:\n",
    "        print('\\n' '- p  найти сотрудника по номеру документа'\n",
    "              '\\n' '- s  найти полку документа'\n",
    "              '\\n' '- i  информация по всем документам'\n",
    "              '\\n' '- as добавить новую полку'\n",
    "              '\\n' '- ds удалить полку'\n",
    "              '\\n' '- d количество документов на хранении'\n",
    "             )\n",
    "        user_input = input('Введите команду')\n",
    "        if user_input == 'p':\n",
    "            documents_owner(document, owner)\n",
    "        elif user_input == 's':\n",
    "            document_directories(document, directories)\n",
    "        elif user_input == 'i':\n",
    "            all_documents(document, dorectories)\n",
    "        elif user_input == 'as':\n",
    "            add_shelf(document, directories)\n",
    "        elif user_input == 'ds':\n",
    "            ad_shel(document, directories)\n",
    "        elif user_input == 'd':\n",
    "            count_documents(document, directories)\n",
    "            break\n",
    "        else:\n",
    "            print('Введена неверная команда')"
   ]
  },
  {
   "cell_type": "code",
   "execution_count": null,
   "metadata": {},
   "outputs": [],
   "source": [
    "#Пользователь по команде “p” может узнать владельца документа по его номеру\n",
    "def documents_owner(document, owner):\n",
    "    user_input = input('Введите номер документа:')\n",
    "    for document in documents:\n",
    "        number = document['number']\n",
    "        name = document['name']\n",
    "        if user_input == number:\n",
    "            print('Владелец документа:', name)\n",
    "            return user_input\n",
    "    print('Владелец документа не найден')\n",
    "    return user_input"
   ]
  },
  {
   "cell_type": "code",
   "execution_count": null,
   "metadata": {},
   "outputs": [],
   "source": [
    "#Пользователь по команде “s” может по номеру документа узнать на какой полке он хранится\n",
    "def document_directories(document, directories):\n",
    "    user_input = input('Введите номер документа ')\n",
    "    for key, value in directories.items():\n",
    "        for num in value:\n",
    "            if user_input in num:\n",
    "                print('Документ хранится на полке:', key)\n",
    "                return user_input\n",
    "        print('Документ не найден в базе')\n",
    "        return user_input"
   ]
  },
  {
   "cell_type": "code",
   "execution_count": null,
   "metadata": {},
   "outputs": [],
   "source": [
    "#Пользователь по команде “l” может увидеть полную информацию по всем документам\n",
    "def all_documents(document, dorectories):\n",
    "    print('Результат: ')\n",
    "    for document in documents:\n",
    "        type_doc = document['type']\n",
    "        doc_num = document['number']\n",
    "        name_own = document['name']\n",
    "        for key, value in directories.items():\n",
    "            if document['number'] in value:\n",
    "                x = key\n",
    "                print('№:', doc_num, ',', 'тип:', type_doc, ',', 'владелец:', name_own, 'полка хранения:', x)"
   ]
  },
  {
   "cell_type": "code",
   "execution_count": null,
   "metadata": {},
   "outputs": [],
   "source": [
    "#Пользователь по команде “as” может добавить новую полку\n",
    "def add_shelf(document, directories):\n",
    "    user_input4 = input ('Введите номер полки')\n",
    "    for k, v in direct.items():\n",
    "        if user_input4 == k:\n",
    "            return(print(f'Такая полка уже существует. Текущий перечень полок {direct.keys()}'))\n",
    "    direct.setdefault(user_input4)\n",
    "    return(print(f'Полка добавлена. Текущий перечень полок {direct.keys()}'))\n",
    "\n",
    "add_shelf(document, directories)"
   ]
  },
  {
   "cell_type": "code",
   "execution_count": null,
   "metadata": {},
   "outputs": [],
   "source": [
    "#Пользователь по команде “ds” может удалить существующую полку из данных (только если она пустая)\n",
    "def ad_shel(document, directories):\n",
    "    user_input = ('Введите номер полки: ')\n",
    "    if user_input not in directories:\n",
    "        return('Такой полки не существует. Текущий перечень полок: ', ', '.join(directories.keys()))\n",
    "    value = directories[user_input]\n",
    "    if user_input in directories and not value:\n",
    "        del(directories[user_input])\n",
    "        print('Полка удалена. Текущий перечень полок: ', ', '.join(directories.keys()))\n",
    "    else:\n",
    "        print('На полке есть документы, удалите их перед удалением полки. Текущий перечень полок: ', ', '.join(directories.keys()))\n",
    "\n",
    "ad_shel(document, directories)"
   ]
  }
 ],
 "metadata": {
  "kernelspec": {
   "display_name": "Python 3",
   "language": "python",
   "name": "python3"
  },
  "language_info": {
   "codemirror_mode": {
    "name": "ipython",
    "version": 3
   },
   "file_extension": ".py",
   "mimetype": "text/x-python",
   "name": "python",
   "nbconvert_exporter": "python",
   "pygments_lexer": "ipython3",
   "version": "3.8.3"
  }
 },
 "nbformat": 4,
 "nbformat_minor": 4
}
