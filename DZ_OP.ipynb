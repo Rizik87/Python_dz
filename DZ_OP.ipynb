{
 "cells": [
  {
   "cell_type": "code",
   "execution_count": 22,
   "metadata": {},
   "outputs": [
    {
     "name": "stdout",
     "output_type": "stream",
     "text": [
      "Фраза 2 длиннее фразы 1\n",
      "Конец программы\n"
     ]
    }
   ],
   "source": [
    "# первое задание\n",
    "phrase_1 = 'Начинаю изучать Python. Надеюсь я выполню все практические занятия'\n",
    "phrase_2 = 'По итогам учебы хочу применять освоенные навыки в своих рабочих задачах'\n",
    "if phrase_1 > phrase_2:\n",
    "    print ('Фраза 1 длиннее фразы 2')\n",
    "elif phrase_2 > phrase_1:\n",
    "    print ('Фраза 2 длиннее фразы 1')\n",
    "else:\n",
    "    print ('Фразы 1 и 2 равны')\n",
    "print ('Конец программы')"
   ]
  },
  {
   "cell_type": "code",
   "execution_count": 21,
   "metadata": {},
   "outputs": [
    {
     "name": "stdout",
     "output_type": "stream",
     "text": [
      "Введите год: 2020\n",
      "високосный год\n"
     ]
    }
   ],
   "source": [
    "# второе задание\n",
    "year = int(input('Введите год: '))\n",
    "if (year % 4 == 0) and (year % 100 != 0) or (year % 400 == 0):\n",
    "    print('високосный год')\n",
    "else:\n",
    "    print('обычный год')"
   ]
  },
  {
   "cell_type": "code",
   "execution_count": 23,
   "metadata": {},
   "outputs": [
    {
     "name": "stdout",
     "output_type": "stream",
     "text": [
      "Введите день рождения:21\n",
      "Введите месяц рождения:9\n",
      "Знак зодиака:Дева\n"
     ]
    }
   ],
   "source": [
    "# третье задание\n",
    "date=int(input('Введите день рождения:'))\n",
    "month=int(input('Введите месяц рождения:'))\n",
    "if (date>=21 and date<=31 and month==3) or( month==4 and date>=1 and date<=19):\n",
    "    print('Знак зодиака:Овен')\n",
    "elif (date>=20 and date<=30 and month==4) or( month==5 and date>=1 and date<=20):\n",
    "    print('Знак зодиака:Телец')\n",
    "elif (date>=21 and date<=31 and month==5) or( month==6 and date>=1 and date<=21):\n",
    "    print('Знак зодиака:Близнецы')\n",
    "elif (date>=22 and date<=30 and month==6) or( month==7 and date>=1 and date<=22):\n",
    "    print('Знак зодиака:Рак')\n",
    "elif (date>=23 and date<=31 and month==7) or( month==8 and date>=1 and date<=22):\n",
    "    print('Знак зодиака:Лев')\n",
    "elif (date>=23 and date<=31 and month==8) or( month==9 and date>=1 and date<=22):\n",
    "    print('Знак зодиака:Дева')\n",
    "elif (date>=23 and date<=30 and month==9) or( month==10 and date>=1 and date<=23):\n",
    "    print('Знак зодиака:Весы')\n",
    "elif (date>=24 and date<=31 and month==10) or( month==11 and date>=1 and date<=22):\n",
    "    print('Знак зодиака:Скорпион')\n",
    "elif (date>=23 and date<=30 and month==11) or( month==12 and date>=1 and date<=21):\n",
    "    print('Знак зодиака:Стрелец')\n",
    "elif (date>=22 and date<=31 and month==12) or( month==1 and date>=1 and date<=20):\n",
    "    print('Знак зодиака:Козерог')\n",
    "elif (date>=21 and date<=31 and month==1) or( month==2 and date>=1 and date<=18):\n",
    "    print('Знак зодиака:Водолей')\n",
    "elif (date>=19 and date<=29 and month==2) or( month==3 and date>=1 and date<=20):\n",
    "    print('Знак зодиака:Рыбы')"
   ]
  },
  {
   "cell_type": "code",
   "execution_count": 30,
   "metadata": {},
   "outputs": [
    {
     "name": "stdout",
     "output_type": "stream",
     "text": [
      "Введите ширину (см):30\n",
      "Введите длину (см):60\n",
      "Введите высоту (см):30\n",
      "Стандартная коробка №3\n"
     ]
    }
   ],
   "source": [
    "# четвертое задание\n",
    "width=int(input('Введите ширину (см):'))\n",
    "length=int(input('Введите длину (см):'))\n",
    "height=int(input('Введите высоту (см):'))\n",
    "if (width<15 and length<15 and height<15):\n",
    "    print('Коробка №1')\n",
    "elif (width>=15 and width<=50) and(length>=15 and length<=50) and(height>=15 and height<=50):\n",
    "    print('Коробка №2')\n",
    "elif (length>=200):\n",
    "    print('Упаковка для лыж')\n",
    "else:\n",
    "    print('Стандартная коробка №3')"
   ]
  }
 ],
 "metadata": {
  "kernelspec": {
   "display_name": "Python 3",
   "language": "python",
   "name": "python3"
  },
  "language_info": {
   "codemirror_mode": {
    "name": "ipython",
    "version": 3
   },
   "file_extension": ".py",
   "mimetype": "text/x-python",
   "name": "python",
   "nbconvert_exporter": "python",
   "pygments_lexer": "ipython3",
   "version": "3.8.3"
  }
 },
 "nbformat": 4,
 "nbformat_minor": 4
}
