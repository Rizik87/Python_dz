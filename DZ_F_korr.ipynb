{
 "cells": [
  {
   "cell_type": "code",
   "execution_count": 1,
   "metadata": {},
   "outputs": [],
   "source": [
    "documents = [\n",
    " {'type': 'passport', 'number': '2207 876234', 'name': 'Василий Гупкин'},\n",
    " {'type': 'invoice', 'number': '11-2', 'name': 'Геннадий Покемонов'},\n",
    " {'type': 'insurance', 'number': '10006', 'name': 'Аристарх Павлов'}\n",
    "]\n",
    "\n",
    "directories = {\n",
    " '1': ['2207 876234', '11-2'],\n",
    " '2': ['10006'],\n",
    " '3': []\n",
    "}"
   ]
  },
  {
   "cell_type": "code",
   "execution_count": 2,
   "metadata": {},
   "outputs": [],
   "source": [
    "def user_input():\n",
    "    com_variants = {'p': check_user,\n",
    "                's' : print_check_shelf,\n",
    "                'l' : full_inf,\n",
    "                'ads' : add_shelf,\n",
    "                'ds' : del_shelf,\n",
    "                'ad' : add_new_info,\n",
    "                'd' : del_docu,\n",
    "                'm' : move_data,\n",
    "                'q':quit\n",
    "               }\n",
    "    while True:\n",
    "        com = input('Введите команду: ')\n",
    "        if com in com_variants:\n",
    "            com_variants[com]()\n",
    "            if com == 'q':\n",
    "                break\n",
    "        else:\n",
    "            return user_input()\n",
    "        \n",
    "def quit():\n",
    "    return print('Завершение программы.')          "
   ]
  },
  {
   "cell_type": "code",
   "execution_count": 3,
   "metadata": {},
   "outputs": [],
   "source": [
    "def doc_id_insert():\n",
    "    '''\n",
    "    2.\n",
    "    Проверка и вывод номера документа\n",
    "    \n",
    "    '''\n",
    "    doc_id = input('Введите номер документа: ')\n",
    "    return doc_id\n",
    "\n",
    "def doc_check(doc_id):\n",
    "    if doc_id not in [row['number'] for row in documents]:\n",
    "        print('Документ не найден в базе')\n",
    "        return\n",
    "    else:\n",
    "        return doc_id"
   ]
  },
  {
   "cell_type": "code",
   "execution_count": 4,
   "metadata": {},
   "outputs": [],
   "source": [
    "\n",
    "def check_shelf(doc_input):\n",
    "    '''\n",
    "    Возвращает номер полки по номеру документа. На вход поступает номер документа.\n",
    "    '''\n",
    "    for shelf,doc in directories.items():\n",
    "        for k in doc:\n",
    "            if doc_input == k:\n",
    "                return shelf\n",
    "   \n",
    "    return\n",
    "            \n",
    "def print_check_shelf():\n",
    "    \"\"\"\n",
    "    Вывод на экран номера полки\n",
    "    \"\"\"\n",
    "    doc = doc_id_insert()\n",
    "    if doc_check(doc) is None:\n",
    "        return print()\n",
    "    else:\n",
    "        print(f'\\nДокумент хранится на полке: ',(check_shelf(doc_check(doc))))"
   ]
  },
  {
   "cell_type": "code",
   "execution_count": 5,
   "metadata": {},
   "outputs": [],
   "source": [
    "def check_user():\n",
    "    '''\n",
    "    Нахождение ФИО по номеру документа\n",
    "    '''\n",
    "    document_numb = doc_check(doc_id_insert())\n",
    "    for row in documents:\n",
    "        if document_numb == row['number']:\n",
    "            print(f'\\nВладелец документа: ',row['name'])"
   ]
  },
  {
   "cell_type": "code",
   "execution_count": 6,
   "metadata": {},
   "outputs": [],
   "source": [
    "def full_inf():\n",
    "    '''\n",
    "    Полная информация по всем документам\n",
    "    '''\n",
    "    for dic in documents:\n",
    "        print(f\"№: {dic['number']}, тип: {dic['type']}, владелец: {dic['name']}, номер полки: {check_shelf(dic['number'])}\")"
   ]
  },
  {
   "cell_type": "code",
   "execution_count": 7,
   "metadata": {},
   "outputs": [],
   "source": [
    "def shelfs():\n",
    "    \"\"\"\n",
    "    Вывод номеров полок в строку\n",
    "    \"\"\"\n",
    "    return ','.join([k for k in directories.keys()])"
   ]
  },
  {
   "cell_type": "code",
   "execution_count": 8,
   "metadata": {},
   "outputs": [],
   "source": [
    "def add_shelf():\n",
    "    \"\"\"\n",
    "    Добавление новой полки\n",
    "    \"\"\"\n",
    "    shelf_id = input('Введите номер полки: ')\n",
    "    if shelf_id not in directories.keys():\n",
    "        directories.setdefault(shelf_id, [])\n",
    "        print(f\"Полка добавлена. Текущий перечень полок: {shelfs()}\")\n",
    "    else:\n",
    "        print(f\"Такая полка уже существует. Текущий перечень полок: {shelfs()}\")"
   ]
  },
  {
   "cell_type": "code",
   "execution_count": 9,
   "metadata": {},
   "outputs": [],
   "source": [
    "def del_shelf():\n",
    "    \"\"\"\n",
    "    Удаление полки\n",
    "    \"\"\"\n",
    "    shelf_id = input('Введите номер полки: ')\n",
    "    if shelf_id not in directories:\n",
    "        print(f\"Такой полки не существует. Текущий перечень полок: {shelfs()}\")\n",
    "    elif directories[shelf_id] == []:\n",
    "        directories.pop(shelf_id)\n",
    "        print(f\"Полка удалена. Текущий перечень полок: {shelfs()}\")\n",
    "    elif directories[shelf_id] != []:\n",
    "        print(f\"На полке есть документ(ы), удалите их перед удалением полки. Текущий перечень полок: {shelfs()}\")       "
   ]
  }
 ],
 "metadata": {
  "kernelspec": {
   "display_name": "Python 3",
   "language": "python",
   "name": "python3"
  },
  "language_info": {
   "codemirror_mode": {
    "name": "ipython",
    "version": 3
   },
   "file_extension": ".py",
   "mimetype": "text/x-python",
   "name": "python",
   "nbconvert_exporter": "python",
   "pygments_lexer": "ipython3",
   "version": "3.8.3"
  }
 },
 "nbformat": 4,
 "nbformat_minor": 4
}
