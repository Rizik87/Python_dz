{
 "cells": [
  {
   "cell_type": "code",
   "execution_count": 2,
   "metadata": {},
   "outputs": [],
   "source": [
    "import json"
   ]
  },
  {
   "cell_type": "code",
   "execution_count": 3,
   "metadata": {},
   "outputs": [
    {
     "name": "stdout",
     "output_type": "stream",
     "text": [
      "кол-во покупателей: 99999\n"
     ]
    }
   ],
   "source": [
    "pur_final = dict()\n",
    "i = 0\n",
    "with open('purchase_log.txt', 'r', encoding = 'utf-8') as f:\n",
    "    next(f)\n",
    "    for line in f:\n",
    "        line = line.strip()\n",
    "        pur = json.loads(line)\n",
    "        pur_final[pur['user_id']] = pur['category'] \n",
    "        i += 1\n",
    "print(f'кол-во покупателей: {i}')"
   ]
  },
  {
   "cell_type": "code",
   "execution_count": 4,
   "metadata": {},
   "outputs": [
    {
     "name": "stdout",
     "output_type": "stream",
     "text": [
      "Количество покупателей: 13798\n"
     ]
    }
   ],
   "source": [
    "x = 0\n",
    "with open('visit_log.csv', 'r', encoding = 'utf-8') as f2:\n",
    "    with open('funnel.csv', 'w') as ff:\n",
    "        next(f2)\n",
    "        ff.write('user_id,source,category\\n')\n",
    "        for line in f2:\n",
    "            line = line.strip().split(',')\n",
    "            if pur_final.get(line[0]) != None and line[0] != None:\n",
    "                ff.write(f'{line[0]},{line[1]},{pur_final.get(line[0])}\\n')\n",
    "                x += 1\n",
    "print(f'Количество покупателей: {x}')"
   ]
  }
 ],
 "metadata": {
  "kernelspec": {
   "display_name": "Python 3",
   "language": "python",
   "name": "python3"
  },
  "language_info": {
   "codemirror_mode": {
    "name": "ipython",
    "version": 3
   },
   "file_extension": ".py",
   "mimetype": "text/x-python",
   "name": "python",
   "nbconvert_exporter": "python",
   "pygments_lexer": "ipython3",
   "version": "3.8.3"
  }
 },
 "nbformat": 4,
 "nbformat_minor": 4
}
