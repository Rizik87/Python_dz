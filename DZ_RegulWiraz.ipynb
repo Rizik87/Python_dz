{
 "cells": [
  {
   "cell_type": "code",
   "execution_count": null,
   "metadata": {},
   "outputs": [],
   "source": [
    "# Задание 1\n",
    "\n",
    "import re\n",
    "\n",
    "def car_id_check():\n",
    "    car_id = input('Введите номер транспортного средства: ')\n",
    "    car_id_pattern = r'[АВЕКМНОРСТУХавекмнорстух]{1}\\d{3}[АВЕКМНОРСТУХавекмнорстух]{2}\\d{2,3}'\n",
    "    if re.findall(car_id_pattern, car_id):\n",
    "        print(f 'Номер', car_id[0:6], 'валиден', 'Регион: ', car_id[6:])\n",
    "    else:\n",
    "        print('Номер не валиден')\n",
    "car_id_check()"
   ]
  },
  {
   "cell_type": "code",
   "execution_count": null,
   "metadata": {},
   "outputs": [],
   "source": [
    "# Задание 2\n",
    "\n",
    "def double_delete():\n",
    "    text = \"\"\"Напишите функцию функцию, которая будет будет будет будет удалять все все все все последовательные повторы слов из из из из заданной строки строки при помощи регулярных выражений\"\"\"\n",
    "    return re.sub(r '\\b([^\\W]+)(\\s+\\1)+\\b', r '\\1', re.sub(r '\\W+', ' ', text).strip())\n",
    "\n",
    "double_delete()"
   ]
  },
  {
   "cell_type": "code",
   "execution_count": null,
   "metadata": {},
   "outputs": [],
   "source": [
    "# Задание 3\n",
    "\n",
    "def acronym():\n",
    "    some_words = input('Введите фразу: ')\n",
    "    print(''.join(word[0].upper() for word in re.findall(r '\\w+', some_words)))\n",
    "\n",
    "acronym()"
   ]
  },
  {
   "cell_type": "code",
   "execution_count": null,
   "metadata": {},
   "outputs": [],
   "source": [
    "# Задание 4\n",
    "\n",
    "def email_domen():\n",
    "    emails = ['test@gmail.com, xyz@test.in, test@ya.ru, xyz@mail.ru, xyz@ya.ru’, xyz@gmail.com']\n",
    "    emails_str = ''.join(emails)\n",
    "    gmail = len(re.findall(r '\\b\\w+@gmail.com', emails_str))\n",
    "    test = len(re.findall(r '\\b\\w+@test.in', emails_str))\n",
    "    ya = len(re.findall(r '\\b\\w+@ya.ru', emails_str))\n",
    "    mail = len(re.findall(r '\\b\\w+@mail.ru', emails_str))\n",
    "    print('gmail.com:', gmail, '\\n' 'test.in:', test, '\\n''ya.ru:', ya, '\\n''mail.ru:', mail)\n",
    "    \n",
    "email_domen()"
   ]
  }
 ],
 "metadata": {
  "kernelspec": {
   "display_name": "Python 3",
   "language": "python",
   "name": "python3"
  },
  "language_info": {
   "codemirror_mode": {
    "name": "ipython",
    "version": 3
   },
   "file_extension": ".py",
   "mimetype": "text/x-python",
   "name": "python",
   "nbconvert_exporter": "python",
   "pygments_lexer": "ipython3",
   "version": "3.8.3"
  }
 },
 "nbformat": 4,
 "nbformat_minor": 4
}
