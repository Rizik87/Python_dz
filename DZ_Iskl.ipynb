{
 "cells": [
  {
   "cell_type": "code",
   "execution_count": null,
   "metadata": {},
   "outputs": [],
   "source": [
    "# Задание 1\n",
    "newspaper_name_1 = 'The Moscow Times'\n",
    "newspaper_name_2 = 'The Guardian'\n",
    "newspaper_name_3 = 'Daily News'\n",
    "newspaper_date_1 = 'Wednesday, October 2, 2002'\n",
    "newspaper_date_2 = 'Friday, 11.10.13'\n",
    "newspaper_date_3 = 'Thursday, 18 August 1977'\n",
    "\n",
    "datetime_1 = datetime.strptime(newspaper_date_1, '%A, %B %d, %Y')\n",
    "datetime_2 = datetime.strptime(newspaper_date_2, '%A, %d.%m.%y')\n",
    "datetime_3 = datetime.strptime(newspaper_date_3, '%A, %d %B %Y')\n",
    "\n",
    "print(f'{newspaper_name_1} - {datetime_1}')\n",
    "print(f'{newspaper_name_2} - {datetime_2}')\n",
    "print(f'{newspaper_name_3} - {datetime_3}')"
   ]
  },
  {
   "cell_type": "code",
   "execution_count": null,
   "metadata": {},
   "outputs": [],
   "source": [
    "# Задание 2\n",
    "stream = ['2018-04-02', '2018-02-29', '2018-19-02']\n",
    "\n",
    "for line in stream:\n",
    "    try:\n",
    "        line_date = datetime.strptime(line, '%Y-%m-%d')\n",
    "        print (True, 'дата корректна')\n",
    "    except:\n",
    "        print (False, 'некорректная дата')"
   ]
  },
  {
   "cell_type": "code",
   "execution_count": null,
   "metadata": {},
   "outputs": [],
   "source": [
    "# Задание 3\n",
    "from datetime import timedelta\n",
    "\n",
    "def date_range():\n",
    "    date_list = []\n",
    "    start_date = input('Введите дату в формате YYYY-MM-DD: ')\n",
    "    end_date = input('Введите дату в формате YYYY-MM-DD: ')\n",
    "    try:\n",
    "        start_date_dt = datetime.strptime(start_date, '%Y-%m-%d')\n",
    "        end_date_dt = datetime.strptime(end_date, '%Y-%m-%d')\n",
    "    except ValueError:\n",
    "        print('Некорректный ввод')\n",
    "        return(date_list)\n",
    "    \n",
    "    if start_date <= end_date:\n",
    "        date_list = [(start_date_dt + timedelta(days = x)).strftime('%Y-%m-%d') for x in range(0, (end_date_dt - start_date_dt).days)]\n",
    "        date_list.append(end_date_dt.strftime('%Y-%m-%d'))\n",
    "        print('\\n'.join(date_list))\n",
    "    elif start_date > end_date:\n",
    "        print('Некорректный ввод')\n",
    "        print(date_list)\n",
    "    elif start_date == end_date:\n",
    "        start_date_dt = datetime.strptime(start_date, '%Y-%m-%d')\n",
    "        end_date_dt = datetime.strptime(end_date, '%Y-%m-%d')\n",
    "        date_list.append(start_date_dt.strftime('%Y-%m-%d'))\n",
    "        print(date_list)\n",
    "    else:\n",
    "        print('Некорректный ввод')\n",
    "        print(date_list)\n",
    "date_range()"
   ]
  },
  {
   "cell_type": "code",
   "execution_count": null,
   "metadata": {},
   "outputs": [],
   "source": [
    "# Задание 4\n",
    "DEFAULT_USER_COUNT = 3\n",
    "\n",
    "def delete_and_return_last_user(region, default_list = ['A100', 'A101', 'A102']):\n",
    "    element_to_delete = default_list[-1]\n",
    "    default_list.remove(element_to_delete)\n",
    "    return default_list[DEFAULT_USER_COUNT - 2]\n",
    "\n",
    "delete_and_return_last_user(1)"
   ]
  }
 ],
 "metadata": {
  "kernelspec": {
   "display_name": "Python 3",
   "language": "python",
   "name": "python3"
  },
  "language_info": {
   "codemirror_mode": {
    "name": "ipython",
    "version": 3
   },
   "file_extension": ".py",
   "mimetype": "text/x-python",
   "name": "python",
   "nbconvert_exporter": "python",
   "pygments_lexer": "ipython3",
   "version": "3.8.3"
  }
 },
 "nbformat": 4,
 "nbformat_minor": 4
}
