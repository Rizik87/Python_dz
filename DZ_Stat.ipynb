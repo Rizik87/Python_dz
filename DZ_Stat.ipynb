{
 "cells": [
  {
   "cell_type": "code",
   "execution_count": null,
   "metadata": {},
   "outputs": [],
   "source": [
    "# Обязательная часть\n",
    "# Будем осуществлять работу с непростым набором данных о состоянии здоровья лошадей, испытывающих кишечные колики.\n",
    "# Задание 1. Базовое изучение\n",
    "\n",
    "# Изучить представленный набор данных на основе описания его столбцов и выбрать 8 столбцов для дальнейшего изучения \n",
    "# (среди них должны быть как числовые, так и категориальные). Провести расчет базовых метрик для них, кратко описать результаты.\n",
    "\n",
    "# Задание 2. Работа с выбросами\n",
    "# В выбранных числовых столбцах найти выбросы, выдвинуть гипотезы об их причинах и проинтерпретировать результаты. \n",
    "# Принять и обосновать решение о дальнейшей работе с ними.\n",
    "\n",
    "# Задание 3. Работа с пропусками\n",
    "# Рассчитать количество выбросов для всех выбранных столбцов. Принять и обосновать решение о методе работы с \n",
    "# пропусками по каждому столбцу, сформировать датафрейм, в котором пропуски будут отсутствовать."
   ]
  },
  {
   "cell_type": "code",
   "execution_count": 1,
   "metadata": {},
   "outputs": [],
   "source": [
    "import pandas as pd\n",
    "import numpy as np\n",
    "import matplotlib.pyplot as plt"
   ]
  },
  {
   "cell_type": "code",
   "execution_count": null,
   "metadata": {},
   "outputs": [],
   "source": [
    "df = pd.read_csv('horse_data.csv', names=['surgery', 'age', 'hospital_number', 'rectal_temperature',\n",
    "                                         'pulse', 'respiratory_rate', 'temperature_of_extremities', \n",
    "                                         'peripheral_pulse', 'mucous_membranes', 'capillary_refill_time', \n",
    "                                         'pain', 'peristalsis', 'abdominal_distension', 'nasogastric_tube', \n",
    "                                         'nasogastric_reflux', 'n_reflux_PH', 'rectal_examination', \n",
    "                                         'abdomen', 'packed_cell_volume', 'total_protein', 'abdom_appearance', \n",
    "                                         'abdom_total_protein', 'outcome', 'surgical_lesion', 'tol_first', \n",
    "                                         'tol_second', 'tol_third', 'cp_data'], header=None, na_values = '?')\n",
    "df = df[['surgery', 'age', 'rectal_temperature', 'pulse', \n",
    "         'temperature_of_extremities', 'mucous_membranes', 'abdominal_distension', 'outcome']]\n",
    "df"
   ]
  },
  {
   "cell_type": "code",
   "execution_count": null,
   "metadata": {},
   "outputs": [],
   "source": [
    "# посмотрим на общие показатели\n",
    "df.describe()"
   ]
  },
  {
   "cell_type": "code",
   "execution_count": null,
   "metadata": {},
   "outputs": [],
   "source": [
    "df.loc[df['age'] == 9, 'age'] = 2"
   ]
  },
  {
   "cell_type": "code",
   "execution_count": null,
   "metadata": {},
   "outputs": [],
   "source": [
    "temperature_range = df.rectal_temperature.max() - df.rectal_temperature.min()\n",
    "pulse_range = df.pulse.max() - df.pulse.min()\n",
    "print(f'Размах температуры: {temperature_range}')\n",
    "print(f'Размах пульса: {pulse_range}')"
   ]
  },
  {
   "cell_type": "code",
   "execution_count": null,
   "metadata": {},
   "outputs": [],
   "source": [
    "print(f'Значение моды по пульсу: {df.pulse.round().mode()[0]}, значение медианы по пульсу: {df.pulse.median()}')\n",
    "print(f'Значение моды по температуре: {df.rectal_temperature.round().mode()[0]}, значение медианы по температуре: {df.rectal_temperature.median()}')"
   ]
  },
  {
   "cell_type": "code",
   "execution_count": null,
   "metadata": {},
   "outputs": [],
   "source": [
    "# определим выбросы вручную и посмотрим, как изменились средние\n",
    "print(df.pulse.median())\n",
    "print(df[(df.pulse > 30) & (df.pulse < 135)].pulse.median())\n",
    "print(df.pulse.mean())\n",
    "print(df[(df.pulse > 30) & (df.pulse < 135)].pulse.mean())"
   ]
  },
  {
   "cell_type": "code",
   "execution_count": null,
   "metadata": {},
   "outputs": [],
   "source": [
    "q1_pulse = df.pulse.quantile(0.25)\n",
    "q3_pulse = df.pulse.quantile(0.75)\n",
    "iqr_pulse = q3_pulse - q1_pulse\n",
    "lower_bound = q1_pulse - (1.5 * iqr_pulse) \n",
    "upper_bound = q3_pulse + (1.5 * iqr_pulse)\n",
    "remove_outliers_pulse = df[df.pulse.between(lower_bound, upper_bound, inclusive=True)].sort_values('pulse')\n",
    "remove_outliers_pulse"
   ]
  },
  {
   "cell_type": "code",
   "execution_count": null,
   "metadata": {},
   "outputs": [],
   "source": [
    "q1_temp = df.rectal_temperature.quantile(0.25)\n",
    "q3_temp = df.rectal_temperature.quantile(0.75)\n",
    "iqr_temp = q3_temp - q1_temp\n",
    "lower_bound_temp = q1_temp - (1.5 * iqr_temp) \n",
    "upper_bound_temp = q3_temp + (1.5 * iqr_temp)\n",
    "remove_outliers_temp = df[df.rectal_temperature.between\\\n",
    "                                 (lower_bound_temp, upper_bound_temp, inclusive=True)].sort_values('rectal_temperature')\n",
    "remove_outliers_temp"
   ]
  },
  {
   "cell_type": "code",
   "execution_count": null,
   "metadata": {},
   "outputs": [],
   "source": [
    "# ищем выбросы по температуре\n",
    "q1_ = df.rectal_temperature.quantile(0.25)\n",
    "q3_ = df.rectal_temperature.quantile(0.75)\n",
    "iqr_ = q3_ - q1_\n",
    "lower_bound_ = q1_ - (1.5 * iqr_) \n",
    "upper_bound_ = q3_ + (1.5 * iqr_)\n",
    "\n",
    "s = df[(df.rectal_temperature > upper_bound_) | (df.rectal_temperature < lower_bound_)].sort_values('rectal_temperature')\n",
    "s.info()"
   ]
  },
  {
   "cell_type": "code",
   "execution_count": null,
   "metadata": {},
   "outputs": [],
   "source": [
    "# выбросы на графике\n",
    "df.rectal_temperature.plot(kind='box', title='Выбросы по ректальной температуре')"
   ]
  },
  {
   "cell_type": "code",
   "execution_count": null,
   "metadata": {},
   "outputs": [],
   "source": [
    "# найдем выбросы по температуре\n",
    "q1_p = df.pulse.quantile(0.25)\n",
    "q3_p = df.pulse.quantile(0.75)\n",
    "iqr_p = q3_p - q1_p\n",
    "lower_bound_p = q1_p - (1.5 * iqr_p) \n",
    "upper_bound_p = q3_p + (1.5 * iqr_p)\n",
    "\n",
    "s_p = df[(df.pulse > upper_bound_p) | (df.pulse < lower_bound_p)].sort_values('pulse')\n",
    "s_p.info()"
   ]
  },
  {
   "cell_type": "code",
   "execution_count": null,
   "metadata": {},
   "outputs": [],
   "source": [
    "# выбросы на графике\n",
    "df.pulse.plot(kind='box', title='Выбросы по пульсу животного')"
   ]
  },
  {
   "cell_type": "code",
   "execution_count": null,
   "metadata": {},
   "outputs": [],
   "source": [
    "# посмотрим долю пустых значений в отчете\n",
    "for skip in df.columns:\n",
    "    pct_missing = df[skip].isnull().mean()\n",
    "    print(f'{skip} - {pct_missing :.1%}')"
   ]
  },
  {
   "cell_type": "code",
   "execution_count": null,
   "metadata": {},
   "outputs": [],
   "source": [
    "df.dropna(inplace=True)\n",
    "df"
   ]
  },
  {
   "cell_type": "code",
   "execution_count": null,
   "metadata": {},
   "outputs": [],
   "source": [
    "df.outcome.plot(kind='hist', \n",
    "                   bins=5,\n",
    "                   title='Распределение результатов состояний лошадей (outcome)',\n",
    "                   xticks=range(1, 4))"
   ]
  }
 ],
 "metadata": {
  "kernelspec": {
   "display_name": "Python 3",
   "language": "python",
   "name": "python3"
  },
  "language_info": {
   "codemirror_mode": {
    "name": "ipython",
    "version": 3
   },
   "file_extension": ".py",
   "mimetype": "text/x-python",
   "name": "python",
   "nbconvert_exporter": "python",
   "pygments_lexer": "ipython3",
   "version": "3.8.3"
  }
 },
 "nbformat": 4,
 "nbformat_minor": 4
}
