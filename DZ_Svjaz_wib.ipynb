{
 "cells": [
  {
   "cell_type": "code",
   "execution_count": 1,
   "metadata": {},
   "outputs": [],
   "source": [
    "import pandas as pd\n",
    "import scipy.stats as stats\n",
    "import numpy as np\n",
    "from IPython.display import Image"
   ]
  },
  {
   "cell_type": "code",
   "execution_count": null,
   "metadata": {},
   "outputs": [],
   "source": [
    "# Задания для самостоятельного решения\n",
    "# 1. Вам даны результаты проверки двух препаратов. Требуется оценить, есть ли различие в эффекте у этих пациентов.\n",
    "# A - результаты для выборки людей получающих препарат А.\n",
    "# B - результаты для другой выборки людей, получающих препарат B."
   ]
  },
  {
   "cell_type": "code",
   "execution_count": 2,
   "metadata": {},
   "outputs": [
    {
     "data": {
      "text/plain": [
       "array([[<matplotlib.axes._subplots.AxesSubplot object at 0x0000013B780B17C0>]],\n",
       "      dtype=object)"
      ]
     },
     "execution_count": 2,
     "metadata": {},
     "output_type": "execute_result"
    },
    {
     "data": {
      "image/png": "[encoded data removed]",
      "text/plain": [
       "<Figure size 432x288 with 1 Axes>"
      ]
     },
     "metadata": {
      "needs_background": "light"
     },
     "output_type": "display_data"
    },
    {
     "data": {
      "image/png": "[encoded data removed]",
      "text/plain": [
       "<Figure size 432x288 with 1 Axes>"
      ]
     },
     "metadata": {
      "needs_background": "light"
     },
     "output_type": "display_data"
    }
   ],
   "source": [
    "#проведем рандомную генерацию чисел, разделим на группы\n",
    "np.random.seed(11)\n",
    "A=stats.norm.rvs(scale=30,loc=11,size=100)\n",
    "B=A+stats.norm.rvs(scale=54,loc=11,size=100)\n",
    "\n",
    "#для простоты сравнения, а также, чтобы посмотреть тип распределения выведем А и В на график\n",
    "pd.DataFrame(A).hist(bins = 12)\n",
    "pd.DataFrame(B).hist(bins = 12)"
   ]
  },
  {
   "cell_type": "code",
   "execution_count": null,
   "metadata": {},
   "outputs": [],
   "source": [
    "# Распределение отличается от нормального у группы В, поэтому для расчета зависимости/различий между группами \n",
    "# логичнее будет применить U-тест по методу Манна и Уитни.\n",
    "# Гипотезы:\n",
    "# Н:0 Нет существенных различий в эффекте препарата А от препарата В   \n",
    "# Н:1 У пациентов имеются различия принимающих препарат А от принимающих препарат В\n",
    "# Параметр Alpha установим на 5% уровень."
   ]
  },
  {
   "cell_type": "code",
   "execution_count": 3,
   "metadata": {},
   "outputs": [
    {
     "name": "stdout",
     "output_type": "stream",
     "text": [
      "Statistics=4343.000, p=0.054\n",
      "Не можем отклонить гипотезу H0 (Нет существенных различий в эффекте препарата А от препарата В)\n"
     ]
    }
   ],
   "source": [
    "from scipy.stats import mannwhitneyu\n",
    "stat, p = mannwhitneyu(A, B)\n",
    "print('Statistics=%.3f, p=%.3f' % (stat, p))\n",
    "alpha = 0.05\n",
    "if p > alpha:\n",
    "    print('Не можем отклонить гипотезу H0 (Нет существенных различий в эффекте препарата А от препарата В)')\n",
    "else:\n",
    "    print('Отклоняем гипотезу H0, принимаем H1 (У пациентов, принимающих препараты, имеются различия)')"
   ]
  },
  {
   "cell_type": "code",
   "execution_count": null,
   "metadata": {},
   "outputs": [],
   "source": [
    "# 2. Вам даны результаты проверки двух препаратов. Требуется оценить, есть ли различие в эффекте у этих пациентов.\n",
    "# А - те же люди, но без препарата.\n",
    "# B - выборка получающая препарат B"
   ]
  },
  {
   "cell_type": "code",
   "execution_count": 4,
   "metadata": {},
   "outputs": [],
   "source": [
    "np.random.seed(11)\n",
    "A_w=stats.norm.rvs(scale=30,loc=11,size=100)\n",
    "B_w=A+stats.norm.rvs(scale=54,loc=11,size=100)"
   ]
  },
  {
   "cell_type": "code",
   "execution_count": null,
   "metadata": {},
   "outputs": [],
   "source": [
    "# В данном варианте можно оценить группу А и В как зависимые, их данные - количественные, а по распределению - нормальные.\n",
    "# Т.о. будем оценивать сходство/различия в эффекте применения препарата с помощью тестирования методом W-критерия Вилкоксона.\n",
    "# Гипотезы:\n",
    "# H0: Различия в группах не существенны, применение препарата не оказывает значимого влияния.\n",
    "# H1: Различия в группах существенны, применение препарата имеет результат\n",
    "# Параметр Alpha установим на 5% уровень."
   ]
  },
  {
   "cell_type": "code",
   "execution_count": 5,
   "metadata": {},
   "outputs": [
    {
     "name": "stdout",
     "output_type": "stream",
     "text": [
      "Statistics=1930.000, p=0.041\n",
      "Отклоняем гипотезу H0, принимаем H1 (Различия в группах существенны, применение препарата имеет результат)\n"
     ]
    }
   ],
   "source": [
    "from scipy.stats import wilcoxon\n",
    "stat_w, p_w = wilcoxon(A_w, B_w)\n",
    "print('Statistics=%.3f, p=%.3f' % (stat_w, p_w))\n",
    "alpha = 0.05\n",
    "if p_w > alpha:\n",
    "    print('Не можем отклонить гипотезу H0 (различия в группах не существенны, применение препарата не оказывает значимого влияния)')\n",
    "else:\n",
    "    print('Отклоняем гипотезу H0, принимаем H1 (Различия в группах существенны, применение препарата имеет результат)')"
   ]
  },
  {
   "cell_type": "code",
   "execution_count": null,
   "metadata": {},
   "outputs": [],
   "source": [
    "# 3. Допустим вы решили устроить дачный эксперимент. Берем и поливаем одни огурцы водой, другие огурцы водой с удобнением, \n",
    "# третью группу огурцов будем поливать минералкой. Используя дисперсионный анализ, сделайте выводы о распредлениях результатов. \n",
    "# Если ли эффект от удобрения по сравнению с минералкой?\n",
    "# water = [1,2,3,4,2,4,2,4,5,2,3,4,2,1,3,4,3,2,5,1]\n",
    "# nutri = [1,2,4,6,5,6,7,5,4,5,6,7,4,3,5,5,6,5,4,3,5]\n",
    "# mineral =[2,1,1,3,2,4,2,4,5,4,3,2,3,2,3,1,3,4,5,1,4]"
   ]
  },
  {
   "cell_type": "code",
   "execution_count": 6,
   "metadata": {},
   "outputs": [
    {
     "data": {
      "text/plain": [
       "F_onewayResult(statistic=12.525963044834192, pvalue=2.9240047906326866e-05)"
      ]
     },
     "execution_count": 6,
     "metadata": {},
     "output_type": "execute_result"
    }
   ],
   "source": [
    "water = [1,2,3,4,2,4,2,4,5,2,3,4,2,1,3,4,3,2,5,1]\n",
    "nutri = [1,2,4,6,5,6,7,5,4,5,6,7,4,3,5,5,6,5,4,3,5]\n",
    "mineral =[2,1,1,3,2,4,2,4,5,4,3,2,3,2,3,1,3,4,5,1,4]\n",
    "from scipy.stats import f_oneway\n",
    "f_oneway(water, nutri, mineral)"
   ]
  },
  {
   "cell_type": "code",
   "execution_count": 7,
   "metadata": {},
   "outputs": [
    {
     "name": "stdout",
     "output_type": "stream",
     "text": [
      "2.85 4.666666666666667 2.8095238095238093\n"
     ]
    }
   ],
   "source": [
    "print(np.mean(water), np.mean(nutri), np.mean(mineral))"
   ]
  },
  {
   "cell_type": "code",
   "execution_count": null,
   "metadata": {},
   "outputs": [],
   "source": [
    "# Видно, что выделяется от других групп nutri. Для частоты экперимента, проведем сравнения между каждой группой через t-тест"
   ]
  },
  {
   "cell_type": "code",
   "execution_count": 8,
   "metadata": {},
   "outputs": [
    {
     "data": {
      "text/plain": [
       "Ttest_indResult(statistic=-4.132232441883167, pvalue=0.0001840453200503376)"
      ]
     },
     "execution_count": 8,
     "metadata": {},
     "output_type": "execute_result"
    }
   ],
   "source": [
    "stats.ttest_ind(water, nutri)"
   ]
  },
  {
   "cell_type": "code",
   "execution_count": 9,
   "metadata": {},
   "outputs": [
    {
     "data": {
      "text/plain": [
       "Ttest_indResult(statistic=0.10129659201078253, pvalue=0.919834021847144)"
      ]
     },
     "execution_count": 9,
     "metadata": {},
     "output_type": "execute_result"
    }
   ],
   "source": [
    "stats.ttest_ind(water, mineral)"
   ]
  },
  {
   "cell_type": "code",
   "execution_count": 10,
   "metadata": {},
   "outputs": [
    {
     "data": {
      "text/plain": [
       "Ttest_indResult(statistic=4.257784009579262, pvalue=0.00012136733401245426)"
      ]
     },
     "execution_count": 10,
     "metadata": {},
     "output_type": "execute_result"
    }
   ],
   "source": [
    "stats.ttest_ind(nutri, mineral)"
   ]
  },
  {
   "cell_type": "code",
   "execution_count": null,
   "metadata": {},
   "outputs": [],
   "source": [
    "# Предположение подтвердилось - полив огурцов удобрениями существенно отличается от результатов полива водой \n",
    "# или минералкой и положительно влияет на конечный урожай.\n",
    "# Существенных различий между группами огурцов с поливом водой и минералкой не наблюдается. Полив минералкой неэффективен."
   ]
  },
  {
   "cell_type": "code",
   "execution_count": null,
   "metadata": {},
   "outputs": [],
   "source": [
    "# Cookie Cats"
   ]
  },
  {
   "cell_type": "code",
   "execution_count": null,
   "metadata": {},
   "outputs": [],
   "source": [
    "Image(\"cookie_cats_video.jpeg\")"
   ]
  },
  {
   "cell_type": "code",
   "execution_count": null,
   "metadata": {},
   "outputs": [],
   "source": [
    "# По мере прохождения уровней игры игроки время от времени сталкиваются с воротами, которые заставляют их ждать \n",
    "# нетривиальное количество времени или совершать покупки в приложении, чтобы продолжить. Помимо стимулирования покупок в \n",
    "# приложении, эти ворота служат важной цели - дать игрокам вынужденный перерыв в игре, что, как мы надеемся, приведет к \n",
    "# увеличению и продлению удовольствия от игры.\n",
    "# Но где ставить ворота? Первоначально первые ворота были размещены на уровне 30. В этом проекте вам предлагается \n",
    "# проанализировать AB-тест, в котором создатели переместили первые ворота в Cookie Cats с 30 уровня на уровень 40. \n",
    "# В частности, вам надо рассмотрим влияние A/B теста на удержание игроков."
   ]
  },
  {
   "cell_type": "code",
   "execution_count": null,
   "metadata": {},
   "outputs": [],
   "source": [
    "Image(\"cc_gates.png\")"
   ]
  },
  {
   "cell_type": "code",
   "execution_count": null,
   "metadata": {},
   "outputs": [],
   "source": [
    "data = pd.read_csv('cookie_cats.csv')\n",
    "data"
   ]
  },
  {
   "cell_type": "code",
   "execution_count": null,
   "metadata": {},
   "outputs": [],
   "source": [
    "# Данные получены от 90 189 игроков, которые установили игру во время проведения AB-теста. \n",
    "# Переменные:\n",
    "# userid - уникальный номер, идентифицирующий каждого игрока.\n",
    "# version - был ли игрок помещен в контрольную группу (gate_30 - ворота на уровне 30) или в тестовую группу (gate_40 - \n",
    "# ворота на уровне 40).\n",
    "# sum_gamerounds - количество игровых раундов, сыгранных игроком в течение первой недели после установки\n",
    "# retention_1 - проигрыватель вернулся и поиграл через 1 день после установки?\n",
    "# retention_7 - проигрыватель вернулся и играл через 7 дней после установки?\n",
    "# Когда игрок устанавливал игру, ему случайным образом назначали gate_30 или gate_40."
   ]
  },
  {
   "cell_type": "code",
   "execution_count": null,
   "metadata": {},
   "outputs": [],
   "source": [
    "#Сгрупируем результаты теста по версиям игры\n",
    "data.groupby('version').userid.count().reset_index()"
   ]
  },
  {
   "cell_type": "code",
   "execution_count": null,
   "metadata": {},
   "outputs": [],
   "source": [
    "# По результатам группировки видно, что количество пользователей gate_30 меньше gate_40. \n",
    "# Обусловлено это рандомным распределением пользователей."
   ]
  },
  {
   "cell_type": "code",
   "execution_count": null,
   "metadata": {},
   "outputs": [],
   "source": [
    "# Подсчет количества игроков для каждого количества раундов\n",
    "plot_df = data.groupby('sum_gamerounds')['userid'].count()\n",
    "plot_df.hist(bins = 150)  # попробуйте поварировать bins=150\n",
    "plot_df"
   ]
  },
  {
   "cell_type": "code",
   "execution_count": null,
   "metadata": {},
   "outputs": [],
   "source": [
    "# Можно сделать вывод, что большая часть игроков проходит небольшое количество раундов в игре. \n",
    "# Причины могут быть разными, но скорее всего, это та доля игроков, которым не понравилась игра."
   ]
  },
  {
   "cell_type": "code",
   "execution_count": null,
   "metadata": {},
   "outputs": [],
   "source": [
    "# Построим график распределения игроков, сыгравших от 0 до 100 игровых раундов в течение своей первой недели игры.\n",
    "%matplotlib inline\n",
    "\n",
    "ax = plot_df[:100].plot(figsize=(10,6))\n",
    "ax.set_title(\"The number of players that played 0-100 game rounds during the first week\")\n",
    "ax.set_ylabel(\"Number of Players\")\n",
    "ax.set_xlabel('# Game rounds')"
   ]
  },
  {
   "cell_type": "code",
   "execution_count": null,
   "metadata": {},
   "outputs": [],
   "source": [
    "# При более детальном просмотре данных становится очевидным, что бОльшая доля игроков провела до 10 раундов в игре."
   ]
  },
  {
   "cell_type": "code",
   "execution_count": null,
   "metadata": {},
   "outputs": [],
   "source": [
    "# Creating an list with bootstrapped means for each AB-group\n",
    "boot_1d = []\n",
    "for i in range(1000):\n",
    "    boot_mean = data.sample(frac = 1,replace = True).groupby('version')['retention_7'].mean()  #retention_1\n",
    "    boot_1d.append(boot_mean)\n",
    "boot_1d = pd.DataFrame(boot_1d)\n",
    "boot_1d.plot(kind='density')"
   ]
  },
  {
   "cell_type": "code",
   "execution_count": null,
   "metadata": {},
   "outputs": [],
   "source": [
    "# Плотность двух групп имеют нормальное распределение и из диаграммы видно, что количество пользователей, \n",
    "# играющих после недели от первоначальной установки игры больше у тех, кто был в группе gate_30. Из этого можно озвучить \n",
    "# гипотезу, что для удержания большего количества пользователей, получения большей выгоды для компании, следует применять \n",
    "# путь gate_30, т.е. устанавливать ворота после 30-го уровня.\n",
    "# Проверим гипотезы:\n",
    "# H0: Не можем отвергнуть нулевую гипотезу, считаем различия групп не значимыми\n",
    "# H1: Отвергаем нулевую гипотезу, считаем различия групп значимыми\n",
    "# Используя любой тест для проверки статистической гипотезы, продемонстрируйте наличие эффекта из-за сдвига ворот."
   ]
  },
  {
   "cell_type": "code",
   "execution_count": null,
   "metadata": {},
   "outputs": [],
   "source": [
    "from scipy.stats import f_oneway\n",
    "gate_40 = pd.DataFrame(data.loc[data.version.isin(['gate_40'])].retention_7)\n",
    "gate_30 = pd.DataFrame(data.loc[data.version.isin(['gate_30'])].retention_7)\n",
    "stat, p = f_oneway(gate_30, gate_40)\n",
    "print('Statistics=%.5f, p=%.5f' % (stat, p))\n",
    "alpha = 0.05\n",
    "if p > alpha:\n",
    "    print('H0: Не можем отвергнуть нулевую гипотезу, считаем различия групп не значимыми, alpha меньше p-value')\n",
    "else:\n",
    "    print('H1: Отвергаем нулевую гипотезу, считаем различия групп значимыми. alpha больше p-value')"
   ]
  },
  {
   "cell_type": "code",
   "execution_count": null,
   "metadata": {},
   "outputs": [],
   "source": [
    "# Гипотеза подтвердилась, группы различимы. Следовательно, рекомендацией будет поставить в приложении ворота после \n",
    "# 30-го уровня для большей аудитории."
   ]
  }
 ],
 "metadata": {
  "kernelspec": {
   "display_name": "Python 3",
   "language": "python",
   "name": "python3"
  },
  "language_info": {
   "codemirror_mode": {
    "name": "ipython",
    "version": 3
   },
   "file_extension": ".py",
   "mimetype": "text/x-python",
   "name": "python",
   "nbconvert_exporter": "python",
   "pygments_lexer": "ipython3",
   "version": "3.8.3"
  }
 },
 "nbformat": 4,
 "nbformat_minor": 4
}
