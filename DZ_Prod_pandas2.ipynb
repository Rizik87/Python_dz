{
 "cells": [
  {
   "cell_type": "code",
   "execution_count": null,
   "metadata": {},
   "outputs": [],
   "source": [
    "# Задание 1\n",
    "# Используйте файл с оценками фильмов ml-latest-small/ratings.csv. Посчитайте среднее время жизни пользователей, \n",
    "# которые выставили более 100 оценок. Под временем жизни понимается разница между максимальным и минимальным значением \n",
    "# столбца timestamp для данного значения userId."
   ]
  },
  {
   "cell_type": "code",
   "execution_count": null,
   "metadata": {},
   "outputs": [],
   "source": [
    "import pandas as pd\n",
    "ratings = pd.read_csv('ml-latest-small/ratings.csv', sep = ',')\n",
    "ratings.head()"
   ]
  },
  {
   "cell_type": "code",
   "execution_count": null,
   "metadata": {},
   "outputs": [],
   "source": [
    "# отфильтруем данные и выведем их в отдельный Df\n",
    "# фильтруем данные, группируем, считаем по каджому его количество и сбрасываем индекс в новом df\n",
    "\n",
    "user_ratings = ratings[['userId', 'movieId']]\n",
    "user_count_ratings = user_ratings.groupby('userId').count().reset_index()\n",
    "\n",
    "# переименуем столбец 'movieId' в 'count_ratings' и отфильтруем его с количеством более 100\n",
    "\n",
    "user_count_ratings.rename(columns={'movieId': 'count_ratings'}, inplace=True)\n",
    "user_count_ratings = user_count_ratings.query('count_ratings > 100')\n",
    "user_count_ratings"
   ]
  },
  {
   "cell_type": "code",
   "execution_count": null,
   "metadata": {},
   "outputs": [],
   "source": [
    "# производим группировку, посчитаем  min|max timestamp-а, сбросим индексы для \n",
    "# корректного отображения таблицы и создадим новый столбец с разницой tampstamp-ов и назовем его 'timelife'\n",
    "\n",
    "timestamp = ratings.groupby('userId').agg([min, max]).reset_index()\n",
    "timestamp['timelife'] = timestamp['timestamp']['max'] - timestamp['timestamp']['min']\n",
    "timestamp_final = timestamp[['userId', 'timelife']]\n",
    "timestamp_final.head()"
   ]
  },
  {
   "cell_type": "code",
   "execution_count": null,
   "metadata": {},
   "outputs": [],
   "source": [
    "# соединяем две таблицы\n",
    "\n",
    "user_count_ratings.merge(timestamp_final, how = 'left', on = 'userId')"
   ]
  },
  {
   "cell_type": "code",
   "execution_count": null,
   "metadata": {},
   "outputs": [],
   "source": [
    "# расчет средней и визуал\n",
    "\n",
    "round_ = round(timestamp['timelife'].mean()/(60*60*24))\n",
    "print(f'Cреднее время жизни пользователей, которые выставили более 100 оценок: {round_}')\n",
    "timestamp.agg({'timelife': ['min', 'max', 'mean', 'median']}).round()"
   ]
  },
  {
   "cell_type": "code",
   "execution_count": null,
   "metadata": {},
   "outputs": [],
   "source": [
    "# Задание 2\n",
    "# Дана статистика услуг перевозок клиентов компании по типам (см. файл с кодом занятия). Необходимо сформировать две таблицы:\n",
    "# таблицу с тремя типами выручки для каждого client_id без указания адреса клиента\n",
    "# аналогичную таблицу по типам выручки с указанием адреса клиента\n",
    "# Обратите внимание, что в процессе объединения таблиц данные не должны теряться.\n",
    "# Дана статистика услуг перевозок клиентов компании по типам:\n",
    "# rzd - железнодорожные перевозки\n",
    "# auto - автомобильные перевозки\n",
    "# air - воздушные перевозки\n",
    "# client_base - адреса клиентов"
   ]
  },
  {
   "cell_type": "code",
   "execution_count": null,
   "metadata": {},
   "outputs": [],
   "source": [
    "rzd = pd.DataFrame(\n",
    "    {\n",
    "        'client_id': [111, 112, 113, 114, 115],\n",
    "        'rzd_revenue': [1093, 2810, 10283, 5774, 981]\n",
    "    }\n",
    ")\n",
    "rzd"
   ]
  },
  {
   "cell_type": "code",
   "execution_count": null,
   "metadata": {},
   "outputs": [],
   "source": [
    "auto = pd.DataFrame(\n",
    "    {\n",
    "        'client_id': [113, 114, 115, 116, 117],\n",
    "        'auto_revenue': [57483, 83, 912, 4834, 98]\n",
    "    }\n",
    ")\n",
    "auto"
   ]
  },
  {
   "cell_type": "code",
   "execution_count": null,
   "metadata": {},
   "outputs": [],
   "source": [
    "air = pd.DataFrame(\n",
    "    {\n",
    "        'client_id': [115, 116, 117, 118],\n",
    "        'air_revenue': [81, 4, 13, 173]\n",
    "    }\n",
    ")\n",
    "air"
   ]
  },
  {
   "cell_type": "code",
   "execution_count": null,
   "metadata": {},
   "outputs": [],
   "source": [
    "client_base = pd.DataFrame(\n",
    "    {\n",
    "        'client_id': [111, 112, 113, 114, 115, 116, 117, 118],\n",
    "        'address': ['Комсомольская 4', 'Энтузиастов 8а', 'Левобережная 1а', 'Мира 14', 'ЗЖБИиДК 1', \n",
    "                    'Строителей 18', 'Панфиловская 33', 'Мастеркова 4']\n",
    "    }\n",
    ")\n",
    "client_base_id = client_base[['client_id']]\n",
    "client_base_full = client_base"
   ]
  },
  {
   "cell_type": "code",
   "execution_count": null,
   "metadata": {},
   "outputs": [],
   "source": [
    "# без адреса\n",
    "\n",
    "(\n",
    "client_base_id.merge(rzd, how = 'outer', on = 'client_id')\n",
    "    .merge(auto, how = 'outer', on = 'client_id')\n",
    "    .merge(air, how = 'outer', on = 'client_id')\n",
    ")"
   ]
  },
  {
   "cell_type": "code",
   "execution_count": null,
   "metadata": {},
   "outputs": [],
   "source": [
    "# с адресом\n",
    "\n",
    "(\n",
    "client_base_full.merge(rzd, how = 'outer', on = 'client_id')\n",
    "    .merge(auto, how = 'outer', on = 'client_id')\n",
    "    .merge(air, how = 'outer', on = 'client_id')\n",
    ")"
   ]
  },
  {
   "cell_type": "code",
   "execution_count": null,
   "metadata": {},
   "outputs": [],
   "source": [
    "# Задание 3\n",
    "\n",
    "# В задаче сквозной аналитики вам предоставили данные по местоположению пользователей. Т. е. для каждого user_id известна \n",
    "# последовательность координат (широта/долгота), когда они требовались приложению для полноценной работы. Как бы вы добавили \n",
    "# эти сведения в таблицу визитов и покупок? Для составления ответа можно использовать вопросы:\n",
    "\n",
    "# 1. У каждого пользователя известен набор координат. А для связывания с визитом или фактом покупки скорее всего потребуется \n",
    "# одно-два числа. Как их получить?\n",
    "# 2. Наборы координат одного и того же пользователя могут быть значительно удалены друг от друга. Как это отразится на вопросе \n",
    "# расчетах пункта 1?\n",
    "# 3. Какие дополнительные признаки можно получить из координат? Ведь это просто числа, которые сами по себе мало что дают.\n",
    "\n",
    "# Решение\n",
    "# 1. merge по ID пользователя - соединение координат и общих данных. Данные timestamp - разделить покупки и визиты с координатами.\n",
    "# timestamp (timestamp визита|timestamp покупки) и ID - связываем все данные.\n",
    "# 2. Не поняла вопроса :(\n",
    "# 3. По координатам пользователей:\n",
    "# - в каких регионах имеется повышенный спрос (или наоборот - низкий спрос) на продукцию компании\n",
    "# - как можно оптимизировать логистику и направлении организации \n",
    "# - ответить на вопросы: где-то необходимо открыть|закрыть офисы продаж, перенаправить тот или иной товар в другой регион"
   ]
  }
 ],
 "metadata": {
  "kernelspec": {
   "display_name": "Python 3",
   "language": "python",
   "name": "python3"
  },
  "language_info": {
   "codemirror_mode": {
    "name": "ipython",
    "version": 3
   },
   "file_extension": ".py",
   "mimetype": "text/x-python",
   "name": "python",
   "nbconvert_exporter": "python",
   "pygments_lexer": "ipython3",
   "version": "3.8.3"
  }
 },
 "nbformat": 4,
 "nbformat_minor": 4
}
